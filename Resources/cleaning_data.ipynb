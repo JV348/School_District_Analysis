{
 "cells": [
  {
   "cell_type": "code",
   "execution_count": 1,
   "id": "7a7a8388",
   "metadata": {},
   "outputs": [],
   "source": [
    "# add the Pandas dependency \n",
    "import pandas as pd"
   ]
  },
  {
   "cell_type": "code",
   "execution_count": null,
   "id": "8e32f362",
   "metadata": {},
   "outputs": [],
   "source": [
    "# Declare a variable and assign to csv\n",
    "#files to load\n",
    "file_to_load = \"Resources/missing_grades.csv\"\n",
    "\n",
    "# Read the CSV into a DataFrame\n",
    "missing_grade_df = pd.read_csv(file_to_load)\n",
    "missing_grade_df"
   ]
  },
  {
   "cell_type": "code",
   "execution_count": null,
   "id": "e1964dad",
   "metadata": {},
   "outputs": [],
   "source": [
    "# Drop the NaNs by dropping the row\n",
    "missing_grade_df.dropna()"
   ]
  },
  {
   "cell_type": "code",
   "execution_count": null,
   "id": "306fc6fa",
   "metadata": {},
   "outputs": [],
   "source": [
    "# Fill in the empty rows with \"85\"\n",
    "missing_grade_df.fillna(85)\n"
   ]
  },
  {
   "cell_type": "code",
   "execution_count": null,
   "id": "7ffa1c87",
   "metadata": {},
   "outputs": [],
   "source": [
    "# Determine data types for school DataFrame \n",
    "school_data_df.dtypes"
   ]
  },
  {
   "cell_type": "code",
   "execution_count": null,
   "id": "358e02ab",
   "metadata": {},
   "outputs": [],
   "source": [
    "# Determine data types for student DataFrame\n",
    "student_data_df.dtypes"
   ]
  }
 ],
 "metadata": {
  "kernelspec": {
   "display_name": "PythonData",
   "language": "python",
   "name": "pythondata"
  },
  "language_info": {
   "codemirror_mode": {
    "name": "ipython",
    "version": 3
   },
   "file_extension": ".py",
   "mimetype": "text/x-python",
   "name": "python",
   "nbconvert_exporter": "python",
   "pygments_lexer": "ipython3",
   "version": "3.7.11"
  }
 },
 "nbformat": 4,
 "nbformat_minor": 5
}
