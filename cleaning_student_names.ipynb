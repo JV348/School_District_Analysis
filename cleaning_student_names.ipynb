{
 "cells": [
  {
   "cell_type": "code",
   "execution_count": null,
   "id": "06a2add1",
   "metadata": {},
   "outputs": [],
   "source": [
    "#Import dependencies\n",
    "import pandas as pd "
   ]
  },
  {
   "cell_type": "code",
   "execution_count": null,
   "id": "decee5a7",
   "metadata": {},
   "outputs": [],
   "source": [
    "# Declare a variable and assign to csv\n",
    "student_data_to_load = \"Resources/students_complete.csv\"\n",
    "\n",
    "student_data_df = pd.read_csv(student_data_to_load)\n",
    "student_data_df.head()"
   ]
  },
  {
   "cell_type": "code",
   "execution_count": null,
   "id": "06db1dc1",
   "metadata": {},
   "outputs": [],
   "source": [
    "# Get student names into a separate list \n",
    "student_names = student_data_df[\"student_name\"].tolist()\n",
    "student_names"
   ]
  },
  {
   "cell_type": "code",
   "execution_count": null,
   "id": "79beb9e3",
   "metadata": {},
   "outputs": [],
   "source": [
    "# Example; split the name so that it can be counted - 3 for a prefix included\n",
    "name = \"Mrs. Linda Santiago\"\n",
    "name.split()"
   ]
  },
  {
   "cell_type": "code",
   "execution_count": null,
   "id": "ffe3b428",
   "metadata": {},
   "outputs": [],
   "source": [
    "# split the student name and determine the length of the split name \n",
    "for name in student_names:\n",
    "    print(name.split(), len(name.split()))"
   ]
  },
  {
   "cell_type": "code",
   "execution_count": null,
   "id": "d1182629",
   "metadata": {},
   "outputs": [],
   "source": [
    "# Create a new list and use it for the for loop to iterate through the list \n",
    "students_to_fix = [ ]\n",
    "\n",
    "# Use an if statement to check the length of the name \n",
    "#If the name is greater than or equal to \"3\", add the name to the list \n",
    "\n",
    "for name in student_names: \n",
    "    if len(name.split()) >= 3:\n",
    "        students_to_fix.append(name)\n",
    "        \n",
    "# Get the length of the students whose names are greater than or egual to \"3\"\n",
    "len(students_to_fix)"
   ]
  },
  {
   "cell_type": "code",
   "execution_count": null,
   "id": "0f73697e",
   "metadata": {},
   "outputs": [],
   "source": [
    "# Add the prefixes less than or equal to 4 to a new list.\n",
    "prefixes = []\n",
    "for name in students_to_fix:\n",
    "    if len(name.split()[0]) <= 4:\n",
    "        prefixes.append(name.split()[0])\n",
    "\n",
    "print(prefixes)"
   ]
  },
  {
   "cell_type": "code",
   "execution_count": null,
   "id": "28ae9193",
   "metadata": {},
   "outputs": [],
   "source": [
    "# Add the suffixes less than or equal to 3 to a new list.\n",
    "suffixes = []\n",
    "for name in students_to_fix:\n",
    "    if len(name.split()[-1]) <= 3:\n",
    "        suffixes.append(name.split()[-1])\n",
    "\n",
    "print(suffixes)"
   ]
  },
  {
   "cell_type": "code",
   "execution_count": null,
   "id": "d2e0fe91",
   "metadata": {},
   "outputs": [],
   "source": [
    "# Get the unique items in the \"prefixes\" list \n",
    "set(prefixes)"
   ]
  },
  {
   "cell_type": "code",
   "execution_count": null,
   "id": "75e4d004",
   "metadata": {},
   "outputs": [],
   "source": [
    "# Get the unique items in the \"suffixes\" list \n",
    "set(suffixes)"
   ]
  },
  {
   "cell_type": "code",
   "execution_count": null,
   "id": "aa9f1f5f",
   "metadata": {},
   "outputs": [],
   "source": [
    "#Removing these unwanted portions; except for family related like the II or III\n",
    "# strip method removes letters in the combination given - it will remove letters too though so no go\n",
    "# Strip \"Mrs.\" from the student names\n",
    "#for name in students_to_fix:\n",
    "    #print(name.strip(\"Mrs.\"))\n",
    "    \n",
    "#using the replace method instead\n",
    "#name = \"Dr. Linda Santiago\"\n",
    "#name.replace(\"Dr. \", \"\")\n",
    "    "
   ]
  },
  {
   "cell_type": "code",
   "execution_count": null,
   "id": "4d708412",
   "metadata": {},
   "outputs": [],
   "source": [
    "# Be more efficient with removing and add everything to remove to a list \n",
    "prefixes_suffixes = [\"Dr. \", \"Mr. \", \"Ms. \", \"Mrs. \", \"Miss \", \" MD\", \" DDS\", \" DVM\", \" PhD\"]"
   ]
  },
  {
   "cell_type": "code",
   "execution_count": null,
   "id": "0f6d6b33",
   "metadata": {},
   "outputs": [],
   "source": [
    "#Convert the data from object to string \n",
    "\n",
    "#chain the str method with the replace() method \n",
    "#student_data_df[\"student_name\"].str.replace()\n",
    "\n",
    "# Iterate through the \"prefixes_suffixes\" list and replace them with an empty space\n",
    "for word in prefixes_suffixes:\n",
    "    student_data_df[\"student_name\"] = student_data_df[\"student_name\"].str.replace(word,\"\")\n",
    "\n",
    "student_data_df.head(10)"
   ]
  },
  {
   "cell_type": "code",
   "execution_count": null,
   "id": "1227cd15",
   "metadata": {},
   "outputs": [],
   "source": [
    "# Confirm that all portions were removed \n",
    "\n",
    "# Put the cleaned students' names into another list \n",
    "student_names = student_data_df[\"student_name\"].tolist()\n",
    "student_names"
   ]
  },
  {
   "cell_type": "code",
   "execution_count": null,
   "id": "9861111e",
   "metadata": {},
   "outputs": [],
   "source": [
    "# Create a new list and use it for the for loop to iterate through the list \n",
    "students_fixed = []\n",
    "\n",
    "# Use an if statement to check the length of the name \n",
    "\n",
    "for name in student_names:\n",
    "    if len(name.split()) >= 3:\n",
    "        students_fixed.append(name)\n",
    "\n",
    "#Get the length of the students' names that are greater than or equal to 3\n",
    "len(students_fixed)"
   ]
  },
  {
   "cell_type": "code",
   "execution_count": null,
   "id": "bc0751fd",
   "metadata": {},
   "outputs": [],
   "source": []
  }
 ],
 "metadata": {
  "kernelspec": {
   "display_name": "PythonData",
   "language": "python",
   "name": "pythondata"
  },
  "language_info": {
   "codemirror_mode": {
    "name": "ipython",
    "version": 3
   },
   "file_extension": ".py",
   "mimetype": "text/x-python",
   "name": "python",
   "nbconvert_exporter": "python",
   "pygments_lexer": "ipython3",
   "version": "3.7.11"
  }
 },
 "nbformat": 4,
 "nbformat_minor": 5
}
